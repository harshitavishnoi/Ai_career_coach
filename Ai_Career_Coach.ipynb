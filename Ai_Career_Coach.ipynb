{
  "nbformat": 4,
  "nbformat_minor": 0,
  "metadata": {
    "colab": {
      "provenance": [],
      "authorship_tag": "ABX9TyOB7X0Hq7gMEE4ImVk/QhL4",
      "include_colab_link": true
    },
    "kernelspec": {
      "name": "python3",
      "display_name": "Python 3"
    },
    "language_info": {
      "name": "python"
    }
  },
  "cells": [
    {
      "cell_type": "markdown",
      "metadata": {
        "id": "view-in-github",
        "colab_type": "text"
      },
      "source": [
        "<a href=\"https://colab.research.google.com/github/harshitavishnoi/Ai_career_coach/blob/main/Ai_Career_Coach.ipynb\" target=\"_parent\"><img src=\"https://colab.research.google.com/assets/colab-badge.svg\" alt=\"Open In Colab\"/></a>"
      ]
    },
    {
      "cell_type": "code",
      "execution_count": null,
      "metadata": {
        "colab": {
          "base_uri": "https://localhost:8080/"
        },
        "id": "-GDPoeFdB531",
        "outputId": "e0d9e897-15f6-433c-8da0-135fcabb0ac4"
      },
      "outputs": [
        {
          "output_type": "stream",
          "name": "stdout",
          "text": [
            "Collecting gradientai\n",
            "  Downloading gradientai-1.7.0-py3-none-any.whl (270 kB)\n",
            "\u001b[2K     \u001b[90m━━━━━━━━━━━━━━━━━━━━━━━━━━━━━━━━━━━━━━━━\u001b[0m \u001b[32m270.4/270.4 kB\u001b[0m \u001b[31m4.7 MB/s\u001b[0m eta \u001b[36m0:00:00\u001b[0m\n",
            "\u001b[?25hCollecting aenum>=3.1.11 (from gradientai)\n",
            "  Downloading aenum-3.1.15-py3-none-any.whl (137 kB)\n",
            "\u001b[2K     \u001b[90m━━━━━━━━━━━━━━━━━━━━━━━━━━━━━━━━━━━━━━━━\u001b[0m \u001b[32m137.6/137.6 kB\u001b[0m \u001b[31m8.6 MB/s\u001b[0m eta \u001b[36m0:00:00\u001b[0m\n",
            "\u001b[?25hRequirement already satisfied: pydantic<2.0.0,>=1.10.5 in /usr/local/lib/python3.10/dist-packages (from gradientai) (1.10.14)\n",
            "Requirement already satisfied: python-dateutil>=2.8.2 in /usr/local/lib/python3.10/dist-packages (from gradientai) (2.8.2)\n",
            "Requirement already satisfied: urllib3>=1.25.3 in /usr/local/lib/python3.10/dist-packages (from gradientai) (2.0.7)\n",
            "Requirement already satisfied: typing-extensions>=4.2.0 in /usr/local/lib/python3.10/dist-packages (from pydantic<2.0.0,>=1.10.5->gradientai) (4.5.0)\n",
            "Requirement already satisfied: six>=1.5 in /usr/local/lib/python3.10/dist-packages (from python-dateutil>=2.8.2->gradientai) (1.16.0)\n",
            "Installing collected packages: aenum, gradientai\n",
            "Successfully installed aenum-3.1.15 gradientai-1.7.0\n"
          ]
        }
      ],
      "source": [
        "!pip install gradientai --upgrade"
      ]
    },
    {
      "cell_type": "code",
      "source": [
        "import os\n",
        "import pandas as pd\n",
        "from gradientai import Gradient\n",
        "from google.colab import drive\n",
        "drive.mount(\"/content/drive\")\n"
      ],
      "metadata": {
        "colab": {
          "base_uri": "https://localhost:8080/"
        },
        "id": "e1JKBu5uDu5X",
        "outputId": "6379f35e-f521-4b61-9305-85c189d8c96b"
      },
      "execution_count": null,
      "outputs": [
        {
          "output_type": "stream",
          "name": "stdout",
          "text": [
            "Mounted at /content/drive\n"
          ]
        }
      ]
    },
    {
      "cell_type": "code",
      "source": [
        "import csv\n",
        "\n",
        "#set gradient environment variables\n",
        "os.environ['GRADIENT_ACCESS_TOKEN'] = 'kcJ5aaga3NpVrR8G2aGtHQY3wpuCa9p6'\n",
        "os.environ['GRADIENT_WORKSPACE_ID'] = 'c6b0df04-84f1-4542-8616-b8dc41d614d5_workspace'\n",
        "\n",
        "#define the path to dataset\n",
        "data_path = '/content/drive/MyDrive/my_projects/datasets/truncated_career_recommender_dataset.csv'\n",
        "\n",
        "#initialize the gradient\n",
        "gradient = Gradient()\n",
        "\n",
        "#load the dataset\n",
        "print(\"Loading and Formatting the data.....\")\n",
        "formatted_data = []\n",
        "with open(data_path,encoding = \"utf-8-sig\") as f:\n",
        "  dataset_data = csv.DictReader(f,delimiter = \",\")\n",
        "  for row in dataset_data:\n",
        "    #construct the prompt from the user's data\n",
        "    user_data = f\"Interests: {row['Interests']},Skills: {row['Skills']}, Degree: {row['Undergraduate Course']}, Working: {row['Employment Status']}\"\n",
        "    #the response is the career path\n",
        "    career_response = row['Career Path']\n",
        "\n",
        "    #format the data for fine-tuning\n",
        "    formatted_entry = {\n",
        "        'inputs': f'### User Data:\\n{user_data}\\n\\n### Suggested Career Path:',\n",
        "        'response' : career_response\n",
        "    }\n",
        "    formatted_data.append(formatted_entry)\n",
        "\n",
        "#get the base model from gradient\n",
        "base = gradient.get_base_model(base_model_slug = \"nous-hermes2\")\n",
        "\n",
        "#create a model adapter for fine-tuning\n",
        "new_model_adapter = base.create_model_adapter(name='ai_career_chatbot')\n",
        "\n",
        "#fine-tune the model adapter in chunks to prevent memory issues\n",
        "print('fine-tuning model adapter...')\n",
        "chunk_lines = 20\n",
        "total_chunks = [formatted_data[x:x+chunk_lines] for x in range(0,len(formatted_data),chunk_lines)]\n",
        "for i,chunk in enumerate(total_chunks):\n",
        "  try:\n",
        "    print(f\"fine-tuning chunk {i+1} of {len(total_chunks)}\")\n",
        "    new_model_adapter.fine_tune(samples = chunk)\n",
        "  except Exception as error:\n",
        "    print(f\"error in fine-tuning chunk {i+1}: {error}\")\n"
      ],
      "metadata": {
        "colab": {
          "base_uri": "https://localhost:8080/"
        },
        "id": "t02zWrEAE7mL",
        "outputId": "0eedb5c4-4cca-4d15-e4ad-f97b10afd476"
      },
      "execution_count": null,
      "outputs": [
        {
          "output_type": "stream",
          "name": "stdout",
          "text": [
            "Loading and Formatting the data.....\n",
            "fine-tuning model adapter...\n",
            "fine-tuning chunk 1 of 5\n",
            "fine-tuning chunk 2 of 5\n",
            "fine-tuning chunk 3 of 5\n",
            "fine-tuning chunk 4 of 5\n",
            "fine-tuning chunk 5 of 5\n"
          ]
        }
      ]
    },
    {
      "cell_type": "code",
      "source": [
        "user_query = \"Interests: designing, Skills: java, Degre: B.Sc in Computer Science, Working: No\"\n",
        "formatted_query = f\"### User Data: \\n{user_query}\\n\\n### Suggested Career Path\"\n",
        "response = new_model_adapter.complete(query=formatted_query, max_generated_token_count=100)\n",
        "print(f\"> {user_query}\\n> {response.generated_output}\")"
      ],
      "metadata": {
        "colab": {
          "base_uri": "https://localhost:8080/"
        },
        "id": "vStnkq79MuDm",
        "outputId": "93bf0571-a92c-4421-ca66-93feb01e0649"
      },
      "execution_count": null,
      "outputs": [
        {
          "output_type": "stream",
          "name": "stdout",
          "text": [
            "> Interests: designing, Skills: java, Degre: B.Sc in Computer Science, Working: No\n",
            ">  Based on your interests and skills, a suggested career path for you could be a User Experience (UX) Designer or User Interface (UI) Designer. As a UX/UI designer, you would be responsible for designing and enhancing the user experience of digital products, such as websites, mobile applications, and software. You would use your skills in Java to create prototypes, wireframes, and mockups, and work closely with developers and other team members to\n"
          ]
        }
      ]
    },
    {
      "cell_type": "code",
      "source": [],
      "metadata": {
        "id": "iXPSyF8sOFvn"
      },
      "execution_count": null,
      "outputs": []
    }
  ]
}